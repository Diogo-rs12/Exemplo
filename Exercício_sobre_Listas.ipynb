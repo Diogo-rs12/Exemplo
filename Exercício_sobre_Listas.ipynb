{
  "nbformat": 4,
  "nbformat_minor": 0,
  "metadata": {
    "colab": {
      "name": "Exercício sobre Listas.ipynb",
      "provenance": [],
      "collapsed_sections": [],
      "authorship_tag": "ABX9TyMovWeYYhgx1EZAaYyLazZV",
      "include_colab_link": true
    },
    "kernelspec": {
      "name": "python3",
      "display_name": "Python 3"
    },
    "language_info": {
      "name": "python"
    }
  },
  "cells": [
    {
      "cell_type": "markdown",
      "metadata": {
        "id": "view-in-github",
        "colab_type": "text"
      },
      "source": [
        "<a href=\"https://colab.research.google.com/github/Diogo-rs12/Exemplo/blob/master/Exerc%C3%ADcio_sobre_Listas.ipynb\" target=\"_parent\"><img src=\"https://colab.research.google.com/assets/colab-badge.svg\" alt=\"Open In Colab\"/></a>"
      ]
    },
    {
      "cell_type": "code",
      "metadata": {
        "colab": {
          "base_uri": "https://localhost:8080/"
        },
        "id": "wlgotQr84Sgs",
        "outputId": "5be55a8e-05d3-421d-819f-620dc7171018"
      },
      "source": [
        "def usuário():\n",
        "  global nomes\n",
        "  nomes = ['Cid Kagenou', 'Rimuru Tempest', 'Ash Ketchum', 'Lara Croft']\n",
        "\n",
        "usuário()\n",
        "print(nomes)"
      ],
      "execution_count": 103,
      "outputs": [
        {
          "output_type": "stream",
          "text": [
            "['Cid Kagenou', 'Rimuru Tempest', 'Ash Ketchum', 'Lara Croft']\n"
          ],
          "name": "stdout"
        }
      ]
    },
    {
      "cell_type": "code",
      "metadata": {
        "colab": {
          "base_uri": "https://localhost:8080/"
        },
        "id": "NByico65BKmn",
        "outputId": "364a4c84-07c5-440e-cd37-b44961e0b59b"
      },
      "source": [
        "#Inserir usuário no início da lista\n",
        "def inserirI():\n",
        "  print('Adicione um usuário para ocupar o início da lista.')\n",
        "  nomes.insert(0, input())\n",
        "\n",
        "inserirI()\n",
        "print(nomes)"
      ],
      "execution_count": 93,
      "outputs": [
        {
          "output_type": "stream",
          "text": [
            "Adicione um usuário para ocupar o início da lista.\n",
            "Son Goku\n",
            "['Son Goku', 'Cid Kagenou', 'Rimuru Tempest', 'Ash Ketchum', 'Lara Croft']\n"
          ],
          "name": "stdout"
        }
      ]
    },
    {
      "cell_type": "code",
      "metadata": {
        "colab": {
          "base_uri": "https://localhost:8080/"
        },
        "id": "gjSYO2k0FZcf",
        "outputId": "8317f9db-2381-4aaa-d803-ee668416f827"
      },
      "source": [
        "#Inserir usuário no final da lista\n",
        "def inserirF():\n",
        "  print('Adicione um usuário para ocupar o final da lista.')\n",
        "  nomes.append(input())\n",
        "\n",
        "inserirF ()\n",
        "print(nomes)"
      ],
      "execution_count": 94,
      "outputs": [
        {
          "output_type": "stream",
          "text": [
            "Adicione um usuário para ocupar o final da lista.\n",
            "Mickey Mouse\n",
            "['Son Goku', 'Cid Kagenou', 'Rimuru Tempest', 'Ash Ketchum', 'Lara Croft', 'Mickey Mouse']\n"
          ],
          "name": "stdout"
        }
      ]
    },
    {
      "cell_type": "code",
      "metadata": {
        "colab": {
          "base_uri": "https://localhost:8080/"
        },
        "id": "yBE_L_apFvxD",
        "outputId": "5924d153-b943-47af-bd70-3b3cb4e03c2d"
      },
      "source": [
        "#Remover usuário\n",
        "def remover():\n",
        "  print('A quantidade de usuários é de: ' + str(len(nomes)))\n",
        "  print('Insira o número do elemento da lista que será removido.')\n",
        "  a = int (input())\n",
        "  del nomes[a]\n",
        "\n",
        "remover()\n",
        "print(nomes)"
      ],
      "execution_count": 99,
      "outputs": [
        {
          "output_type": "stream",
          "text": [
            "A quantidade de usuários é de: 6\n",
            "Insira o número do elemento da lista que será removido.\n",
            "0\n",
            "['Cid Kagenou', 'Rimuru Tempest', 'Ash Ketchum', 'Lara Croft', 'Mickey Mouse']\n"
          ],
          "name": "stdout"
        }
      ]
    },
    {
      "cell_type": "code",
      "metadata": {
        "colab": {
          "base_uri": "https://localhost:8080/"
        },
        "id": "6KDsVCnAIRnx",
        "outputId": "963ce82f-e66b-4714-8311-759f4ff7f14b"
      },
      "source": [
        "#Imprimir usuários\n",
        "def imprimir():\n",
        "  print('Os usuários são: ')\n",
        "\n",
        "imprimir()\n",
        "for nome in nomes:\n",
        "  print(' ' + nome)"
      ],
      "execution_count": 100,
      "outputs": [
        {
          "output_type": "stream",
          "text": [
            "Os usuários são: \n",
            " Cid Kagenou\n",
            " Rimuru Tempest\n",
            " Ash Ketchum\n",
            " Lara Croft\n",
            " Mickey Mouse\n"
          ],
          "name": "stdout"
        }
      ]
    },
    {
      "cell_type": "code",
      "metadata": {
        "colab": {
          "base_uri": "https://localhost:8080/"
        },
        "id": "59Gy-EYaKCuu",
        "outputId": "26b9ace1-02e5-491c-efc9-a73cf9e39dc6"
      },
      "source": [
        "#Crie uma função que permita que o usuário altere o valor de um elemento específico.\n",
        "def alterar():\n",
        "  print('A quantidade de usuários é de: ' + str(len(nomes)))\n",
        "  print('Insira o número do elemento da lista que será alterado.')\n",
        "  i = int (input())\n",
        "  print('Insira o novo usuário.')\n",
        "  nomes[i] = input()\n",
        "\n",
        "alterar()\n",
        "print(nomes)"
      ],
      "execution_count": 102,
      "outputs": [
        {
          "output_type": "stream",
          "text": [
            "A quantidade de usuários é de: 5\n",
            "Insira o número do elemento da lista que será alterado.\n",
            "4\n",
            "Insira o novo usuário.\n",
            "Minnie Mouse\n",
            "['Cid Kagenou', 'Rimuru Tempest', 'Ash Ketchum', 'Lara Croft', 'Minnie Mouse']\n"
          ],
          "name": "stdout"
        }
      ]
    },
    {
      "cell_type": "code",
      "metadata": {
        "colab": {
          "base_uri": "https://localhost:8080/"
        },
        "id": "cd0ghsUdOBsK",
        "outputId": "3d03045c-5d9a-4516-f384-e5d71d684c9a"
      },
      "source": [
        "menu=int (input(print('Digite 1 para inserir um usuário no início da lista; 2 para inserir ni final; 3 para remover; 4 para imprimir; ou 5 para alterar')))\n",
        "if (menu == 1):\n",
        "  inserirI()\n",
        "  print(nomes)\n",
        "elif (menu == 2):\n",
        "  inserirF()\n",
        "  print(nomes)\n",
        "elif (menu == 3):\n",
        "  remover()\n",
        "  print(nomes)\n",
        "elif (menu == 4):\n",
        "  imprimir()\n",
        "  print(nomes)\n",
        "elif (menu == 5):\n",
        "  alterar()\n",
        "  print(nomes)\n",
        "else:\n",
        "  print('Ação não encontrada. Por favor use as opções disponiveis.')"
      ],
      "execution_count": 105,
      "outputs": [
        {
          "output_type": "stream",
          "text": [
            "Digite 1 para inserir um usuário no início da lista; 2 para inserir ni final; 3 para remover; 4 para imprimir; ou 5 para alterar\n",
            "5\n",
            "A quantidade de usuários é de: 5\n",
            "Insira o número do elemento da lista que será alterado.\n",
            "0\n",
            "Insira o novo usuário.\n",
            "Son Goku\n",
            "['Son Goku', 'Cid Kagenou', 'Rimuru Tempest', 'Ash Ketchum', 'Lara Croft']\n"
          ],
          "name": "stdout"
        }
      ]
    }
  ]
}