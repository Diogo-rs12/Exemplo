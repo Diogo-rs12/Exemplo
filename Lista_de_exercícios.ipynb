{
  "nbformat": 4,
  "nbformat_minor": 0,
  "metadata": {
    "colab": {
      "name": "Lista de exercícios.ipynb",
      "provenance": [],
      "collapsed_sections": [],
      "authorship_tag": "ABX9TyMOv+i11qo+6nNq+igjBjcM",
      "include_colab_link": true
    },
    "kernelspec": {
      "name": "python3",
      "display_name": "Python 3"
    },
    "language_info": {
      "name": "python"
    }
  },
  "cells": [
    {
      "cell_type": "markdown",
      "metadata": {
        "id": "view-in-github",
        "colab_type": "text"
      },
      "source": [
        "<a href=\"https://colab.research.google.com/github/Diogo-rs12/Exemplo/blob/master/Lista_de_exerc%C3%ADcios.ipynb\" target=\"_parent\"><img src=\"https://colab.research.google.com/assets/colab-badge.svg\" alt=\"Open In Colab\"/></a>"
      ]
    },
    {
      "cell_type": "code",
      "metadata": {
        "colab": {
          "base_uri": "https://localhost:8080/"
        },
        "id": "FgS_JNrRxNWo",
        "outputId": "4efc6610-0a70-4aa9-aca3-85d7f54e5b7a"
      },
      "source": [
        "#1) Escreva um programa que contenha uma função que receba dois números digitados pelo usuário e retorne a soma desses números.\n",
        "\n",
        "n1 = float(input('Digite o primeiro um número: '))\n",
        "n2 = float(input('Digite o segundo um número: '))\n",
        "\n",
        "soma = n1 + n2\n",
        "print('A soma dos números é igual à: ' \"%.2f\" %soma)"
      ],
      "execution_count": 10,
      "outputs": [
        {
          "output_type": "stream",
          "text": [
            "Digite o primeiro um número: 5.5\n",
            "Digite o segundo um número: 5.5\n",
            "A soma dos números é igual à: 11.00\n"
          ],
          "name": "stdout"
        }
      ]
    },
    {
      "cell_type": "code",
      "metadata": {
        "colab": {
          "base_uri": "https://localhost:8080/"
        },
        "id": "_KP0fXyyBu8L",
        "outputId": "54fdc4b2-cabf-4df9-86ea-8a59c65b9d7e"
      },
      "source": [
        "#2) Desenvolva um programa que receba o valor de um produto e taxa de imposto em porcentagem cobrada sobre sua venda. Em seguida\n",
        "#crie uma função que calcule o valor do produto somado com o imposto e imprima o valor total que será pago pelo usuário\n",
        "\n",
        "valor = float(input('Digite o valor do produto: '))\n",
        "imposto = float(input('Digite o valor do imposto do produto: '))\n",
        "\n",
        "vi = (imposto/100)*valor\n",
        "vt = valor + vi\n",
        "print('O valor total que será pago pelo usuário é: ' \"%.2f\" %vt)\n"
      ],
      "execution_count": 15,
      "outputs": [
        {
          "output_type": "stream",
          "text": [
            "Digite o valor do produto: 1469.50\n",
            "Digite o valor do imposto do produto: 33\n",
            "O valor total que será pago pelo usuário é: 1954.43\n"
          ],
          "name": "stdout"
        }
      ]
    },
    {
      "cell_type": "code",
      "metadata": {
        "colab": {
          "base_uri": "https://localhost:8080/"
        },
        "id": "hdV4SPKjD6sO",
        "outputId": "a257b99b-617f-4b2b-ac42-2541f2e55934"
      },
      "source": [
        "#3)Escreva uma função que receba uma lista de números e retorne Verdadeiro se a lista estiver ordenada e \n",
        "#Falso se a listas estiver desordenada.\n",
        "\n",
        "numeros = []\n",
        "while True:\n",
        "  print('Insira um número: '+str(len(numeros)+1))\n",
        "  numero = input()\n",
        "  if numero == '':\n",
        "    break\n",
        "  numeros = numeros + [numero]\n",
        "\n",
        "ordem = sorted(numeros)\n",
        "if ordem == numeros:\n",
        "  print('Verdadeiro')\n",
        "else:\n",
        "  print('Falso')"
      ],
      "execution_count": 147,
      "outputs": [
        {
          "output_type": "stream",
          "text": [
            "Insira um número: 1\n",
            "2\n",
            "Insira um número: 2\n",
            "5\n",
            "Insira um número: 3\n",
            "\n",
            "Verdadeiro\n"
          ],
          "name": "stdout"
        }
      ]
    },
    {
      "cell_type": "code",
      "metadata": {
        "colab": {
          "base_uri": "https://localhost:8080/"
        },
        "id": "5x_BH4A-KC9h",
        "outputId": "d110d5c4-0c0f-4fa5-a454-3d5bf91e78aa"
      },
      "source": [
        "#4) Faça um programa que leia um número indeterminado de valores, correspondentes a notas, encerrando a entrada de \n",
        "#dados quando for informado um valor igual a -1 (que não deve ser armazenado). Após esta entrada de dados, faça:\n",
        "\n",
        "notas = []\n",
        "while True:\n",
        "  print('Insira uma nota: '+str(len(notas)+1))\n",
        "  nota = input()\n",
        "  if nota == '-1':\n",
        "    break\n",
        "  notas = notas + [nota]"
      ],
      "execution_count": 150,
      "outputs": [
        {
          "output_type": "stream",
          "text": [
            "Insira uma nota: 1\n",
            "2\n",
            "Insira uma nota: 2\n",
            "3\n",
            "Insira uma nota: 3\n",
            "5\n",
            "Insira uma nota: 4\n",
            "10\n",
            "Insira uma nota: 5\n",
            "-1\n"
          ],
          "name": "stdout"
        }
      ]
    },
    {
      "cell_type": "code",
      "metadata": {
        "colab": {
          "base_uri": "https://localhost:8080/"
        },
        "id": "wObjvju_KNHl",
        "outputId": "cdfab5d3-f7fd-48e6-b28f-9cce8fd79cca"
      },
      "source": [
        "#A) Mostre a quantidade de valores que foram lidos;\n",
        "qv = len(notas)\n",
        "print('A quantidade de notas amarzenadas é:', qv)"
      ],
      "execution_count": 155,
      "outputs": [
        {
          "output_type": "stream",
          "text": [
            "A quantidade de notas amarzenadas é: 4\n"
          ],
          "name": "stdout"
        }
      ]
    },
    {
      "cell_type": "code",
      "metadata": {
        "colab": {
          "base_uri": "https://localhost:8080/"
        },
        "id": "RDOgj56-MubD",
        "outputId": "46c811ab-3912-493f-b438-2959b92f06b6"
      },
      "source": [
        "#B) Exiba todos os valores na ordem em que foram informados, um ao lado do outro;\n",
        "print('Notas na ordem em que foram informados:', notas)"
      ],
      "execution_count": 159,
      "outputs": [
        {
          "output_type": "stream",
          "text": [
            "Notas na ordem em que foram informados: ['10', '5', '3', '2']\n"
          ],
          "name": "stdout"
        }
      ]
    },
    {
      "cell_type": "code",
      "metadata": {
        "colab": {
          "base_uri": "https://localhost:8080/"
        },
        "id": "Ri9rLIdINN24",
        "outputId": "5f153e11-0b06-4a4e-8d7e-49c6243f5dd3"
      },
      "source": [
        "#C) Exiba todos os valores na ordem inversa à que foram informados, um abaixo do outro;\n",
        "notas.reverse()\n",
        "print('As notas na ordem inversa à que foram informados são: ')\n",
        "for i in range(len(notas)):\n",
        "  print('Valor '+str(i)+': '+notas[i])"
      ],
      "execution_count": 164,
      "outputs": [
        {
          "output_type": "stream",
          "text": [
            "As notas na ordem inversa à que foram informados são: \n",
            "Valor 0: 2\n",
            "Valor 1: 3\n",
            "Valor 2: 5\n",
            "Valor 3: 10\n"
          ],
          "name": "stdout"
        }
      ]
    },
    {
      "cell_type": "code",
      "metadata": {
        "colab": {
          "base_uri": "https://localhost:8080/"
        },
        "id": "VOxF-k0JPDN0",
        "outputId": "af19a6ad-988d-4529-e875-0832d2ba92a9"
      },
      "source": [
        "#D) Calcule e mostre a soma dos valores;\n",
        "notas = list(map(float, notas))\n",
        "soma = sum(notas)\n",
        "print('A soma das notas é:', soma)"
      ],
      "execution_count": 166,
      "outputs": [
        {
          "output_type": "stream",
          "text": [
            "A soma das notas é: 20.0\n"
          ],
          "name": "stdout"
        }
      ]
    },
    {
      "cell_type": "code",
      "metadata": {
        "colab": {
          "base_uri": "https://localhost:8080/"
        },
        "id": "R5Mk2ijRWGrV",
        "outputId": "c1e4afe6-97db-4a3d-e8c7-9a7c2eafeb0a"
      },
      "source": [
        "#E) Calcule e mostre a média dos valores;\n",
        "media = soma/qv\n",
        "print('A média é:', media)"
      ],
      "execution_count": 167,
      "outputs": [
        {
          "output_type": "stream",
          "text": [
            "A média é: 5.0\n"
          ],
          "name": "stdout"
        }
      ]
    },
    {
      "cell_type": "code",
      "metadata": {
        "colab": {
          "base_uri": "https://localhost:8080/"
        },
        "id": "u9Umo01tWham",
        "outputId": "ea4bda82-68e2-4aba-cdec-2916b9c5a68a"
      },
      "source": [
        "#F) Calcule e mostre a quantidade de valores acima da média calculada;\n",
        "\n",
        "vm = []\n",
        "i = 1  \n",
        "a = 0\n",
        "while (i <= qv):\n",
        "  v = notas[a]\n",
        "  if media < v:\n",
        "    vm.append(v)\n",
        "  i = i + 1\n",
        "  a = a + 1\n",
        "\n",
        "valores_acima = len(vm)\n",
        "print('A quantidade de valores acima da média calculada é:', valores_acima)\n"
      ],
      "execution_count": 168,
      "outputs": [
        {
          "output_type": "stream",
          "text": [
            "A quantidade de valores acima da média calculada é: 1\n"
          ],
          "name": "stdout"
        }
      ]
    },
    {
      "cell_type": "code",
      "metadata": {
        "colab": {
          "base_uri": "https://localhost:8080/"
        },
        "id": "eVBxcWsqr6Pn",
        "outputId": "a5af0022-a1eb-4f57-a4ff-de71c382dbd0"
      },
      "source": [
        "#G) Calcule e mostre a quantidade de valores abaixo de sete.\n",
        "vn = []\n",
        "i = 1  \n",
        "a = 0\n",
        "while (i <= qv):\n",
        "  v2 = notas[a]\n",
        "  if v2 < 7:\n",
        "    vn.append(v2)\n",
        "  i = i + 1\n",
        "  a = a + 1\n",
        "\n",
        "valores_abaixo = len(vn)\n",
        "print('A quantidade de valores abaixo de 7 é:',valores_abaixo)"
      ],
      "execution_count": 169,
      "outputs": [
        {
          "output_type": "stream",
          "text": [
            "A quantidade de valores abaixo de 7 é: 3\n"
          ],
          "name": "stdout"
        }
      ]
    }
  ]
}